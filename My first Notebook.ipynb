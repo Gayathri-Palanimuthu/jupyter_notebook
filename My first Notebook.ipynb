{
 "cells": [
  {
   "cell_type": "markdown",
   "metadata": {},
   "source": [
    "Python Data Analysis\n",
    "\n",
    "- Anaconda is a open source data science platform powered by python.Also a package manager with over 720 open source packages\n",
    "\n",
    "- To get it installed, visit https://www.continuum.io/\n",
    "\n",
    "- After installation on windows, type \"Anaconda prompt\" on Start menu //AP-Anaconda Prompt\n",
    "\n",
    "- Jupyter Notebook is a web application that allows you to create and share documents that contain live code, equations, visualizations and explanatory text across over 40 programming languages\n",
    "\n",
    "- To install Jupyter, type \"conda update jupyter\"\n",
    "\n",
    "For python development, Python IDEs \n",
    "\n",
    "  - Wingware\n",
    "  - Pycharm\n",
    "  - Spyder\n",
    "  - Komodo(text editor/IDE)\n",
    "  - Jupyter (*Best for python beginners and data science, upload and share notebook. But won't scale larger programs*)\n",
    "  \n",
    "Text Editors\n",
    "\n",
    " - Sublime\n",
    " - Notepad++\n",
    "\n",
    "\n",
    "Jupyter\n",
    "  - To Run jupyter locally, type 'jupyter notebook' in /Anconda2 folder**\n",
    "\n",
    "\n",
    "Python/Jupyter shortcuts\n",
    "\n",
    " - 'Shift+Enter' to run a cell\n",
    " - 'Tab' to show all the methods of an object(same as dir(object))\n",
    " - 'Shift+Tab' to show docstring"
   ]
  },
  {
   "cell_type": "code",
   "execution_count": null,
   "metadata": {
    "collapsed": true
   },
   "outputs": [],
   "source": []
  }
 ],
 "metadata": {
  "kernelspec": {
   "display_name": "Python 2",
   "language": "python",
   "name": "python2"
  },
  "language_info": {
   "codemirror_mode": {
    "name": "ipython",
    "version": 2
   },
   "file_extension": ".py",
   "mimetype": "text/x-python",
   "name": "python",
   "nbconvert_exporter": "python",
   "pygments_lexer": "ipython2",
   "version": "2.7.11"
  }
 },
 "nbformat": 4,
 "nbformat_minor": 0
}
